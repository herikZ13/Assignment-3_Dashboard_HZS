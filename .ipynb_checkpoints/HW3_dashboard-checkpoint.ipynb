{
 "cells": [
  {
   "cell_type": "markdown",
   "id": "39ef6c4e-2cc1-4337-aaa1-d799338430de",
   "metadata": {},
   "source": [
    "# Assignment 3  Dashboard\n",
    "\n",
    "**Name:** Heriberto Zapata Solano \n",
    "\n",
    "**e-mail:** heriberto.zapata7939@alumnos.udg.mx"
   ]
  },
  {
   "cell_type": "markdown",
   "id": "891d75b9-144d-4aba-9265-128a27942d57",
   "metadata": {},
   "source": [
    "# MODULES\n"
   ]
  },
  {
   "cell_type": "code",
   "execution_count": 8,
   "id": "1a565454-7584-4fd2-8d0b-07c479143931",
   "metadata": {},
   "outputs": [],
   "source": [
    "import dash\n",
    "from dash import dcc, html\n",
    "from dash.dependencies import Input, Output\n",
    "import plotly.graph_objects as go\n",
    "import numpy as np\n",
    "from scipy.stats import cauchy\n",
    "from scipy.spatial import distance\n"
   ]
  },
  {
   "cell_type": "markdown",
   "id": "1ce37aa0-5c41-4d0f-a5f0-842891248258",
   "metadata": {},
   "source": [
    "- What is \"vec2d\" used for in this code?\n",
    "\n",
    "The Vec2d class represents 2D vectors for trajectory calculations, managing x and y coordinates as Brownian motion and random walks. To plot in 3D, create a Vec3d class and update the functions appropriate."
   ]
  },
  {
   "cell_type": "code",
   "execution_count": 9,
   "id": "90d7fa12-1499-40e3-a2b7-f2b6a9238c70",
   "metadata": {},
   "outputs": [],
   "source": [
    "# Clase Vec2d para operaciones vectoriales 2D\n",
    "class Vec2d:\n",
    "    def __init__(self, x, y):\n",
    "        self.x = x\n",
    "        self.y = y\n",
    "\n",
    "    def __add__(self, other):\n",
    "        return Vec2d(self.x + other.x, self.y + other.y)\n",
    "\n",
    "    def __mul__(self, scalar):\n",
    "        return Vec2d(self.x * scalar, self.y * scalar)"
   ]
  },
  {
   "cell_type": "markdown",
   "id": "2edc576f-57b3-4505-87d6-5fde1b40fae6",
   "metadata": {},
   "source": [
    "# FUNCTIONS\n",
    "\n"
   ]
  },
  {
   "cell_type": "markdown",
   "id": "e60677ce-63a4-46a0-a582-40d80ba0ae31",
   "metadata": {},
   "source": [
    "Define functions for simulating Brownian motion, correlated random walks, and Levy flights in 2D. It calculates trajectory lengths, mean squared displacement (MSD), and turning angles."
   ]
  },
  {
   "cell_type": "markdown",
   "id": "2d98f80b-0d76-41ec-a124-df09d9c827fc",
   "metadata": {},
   "source": [
    "# Function to generate Brownian Motion\n",
    "def brownian_motion(steps, speed, start_pos):\n",
    "    trajectory = [Vec2d(*start_pos)]\n",
    "    for _ in range(steps):\n",
    "        angle = np.random.uniform(0, 2 * np.pi)\n",
    "        step = Vec2d(np.cos(angle), np.sin(angle)) * speed\n",
    "        trajectory.append(trajectory[-1] + step)\n",
    "    return trajectory\n",
    "\n",
    "# Function to generate Correlated Random Walk\n",
    "def correlated_random_walk(steps, speed, start_pos, cauchy_coeff):\n",
    "    trajectory = [Vec2d(*start_pos)]\n",
    "    angle = 0\n",
    "    for _ in range(steps):\n",
    "        angle += cauchy.rvs(scale=cauchy_coeff)  # Angle distributed according to Cauchy\n",
    "        step = Vec2d(np.cos(angle), np.sin(angle)) * speed\n",
    "        trajectory.append(trajectory[-1] + step)\n",
    "    return trajectory\n",
    "\n",
    "# Function to generate Levy Flight\n",
    "def levy_flight(steps, speed, start_pos, cauchy_coeff, alpha):\n",
    "    trajectory = [Vec2d(*start_pos)]\n",
    "    for _ in range(steps):\n",
    "        direction = np.random.uniform(0, 2 * np.pi)\n",
    "        step_length = (np.random.pareto(alpha) + 1) * cauchy_coeff\n",
    "        step = Vec2d(np.cos(direction), np.sin(direction)) * step_length * speed\n",
    "        trajectory.append(trajectory[-1] + step)\n",
    "    return trajectory\n",
    "\n",
    "# Function to calculate the path length\n",
    "def calculate_path_length(trajectory):\n",
    "    length = [0]\n",
    "    for i in range(1, len(trajectory)):\n",
    "        dist = distance.euclidean((trajectory[i-1].x, trajectory[i-1].y), \n",
    "                                  (trajectory[i].x, trajectory[i].y))\n",
    "        length.append(length[-1] + dist)\n",
    "    return length\n",
    "\n",
    "# Function to calculate the Mean Squared Displacement (MSD)\n",
    "def calculate_msd(trajectory):\n",
    "    msd = []\n",
    "    for tau in range(1, len(trajectory)):\n",
    "        displacements = [(trajectory[i + tau].x - trajectory[i].x)**2 + (trajectory[i + tau].y - trajectory[i].y)**2 \n",
    "                         for i in range(len(trajectory) - tau)]\n",
    "        msd.append(np.mean(displacements))\n",
    "    return msd\n",
    "\n",
    "# Function to calculate turning angles\n",
    "def calculate_turning_angles(trajectory):\n",
    "    angles = []\n",
    "    for i in range(1, len(trajectory) - 1):\n",
    "        p1 = np.array([trajectory[i-1].x, trajectory[i-1].y])\n",
    "        p2 = np.array([trajectory[i].x, trajectory[i].y])\n",
    "        p3 = np.array([trajectory[i+1].x, trajectory[i+1].y])\n",
    "        v1 = p2 - p1\n",
    "        v2 = p3 - p2\n",
    "        dot_prod = np.dot(v1, v2)\n",
    "        cross_prod = np.cross(v1, v2)\n",
    "        angle = np.arctan2(cross_prod, dot_prod)\n",
    "        angles.append(angle)\n",
    "    return angles\n"
   ]
  },
  {
   "cell_type": "markdown",
   "id": "cdcd9940-d04b-4361-807b-fd801ff5cc24",
   "metadata": {},
   "source": [
    "## how to display the results\n",
    "\n",
    "Now we use the Dash app that is used for creating interactive, web-based dashboards and data visualizations in Python\n",
    "\n",
    "What are the advantages:\n",
    "\n",
    "- Create interactive, easy-to-use data applications or dashboards without learning web development frameworks.\n"
   ]
  },
  {
   "cell_type": "markdown",
   "id": "d1db40d1-d9a2-44e7-aa21-10f4b050e2ee",
   "metadata": {},
   "source": [
    "# Display Dash app\n"
   ]
  },
  {
   "cell_type": "markdown",
   "id": "09092513-8af4-4bf8-a4d3-1f9efe3eeaf7",
   "metadata": {},
   "source": [
    "This section creates the Dash app, which is used to build the dashboard."
   ]
  },
  {
   "cell_type": "code",
   "execution_count": 10,
   "id": "bd06264c-526b-4c1f-84c4-9362492dfc70",
   "metadata": {},
   "outputs": [],
   "source": [
    "# Create the Dash app\n",
    "app = dash.Dash(__name__)\n",
    "app.config.suppress_callback_exceptions = True"
   ]
  },
  {
   "cell_type": "markdown",
   "id": "b3a1c476-ef06-4aa5-a93d-1d362289a3a6",
   "metadata": {},
   "source": [
    "In this part defines the visual structure of the dashboard. It uses HTML and Dash components to:\n",
    "\n",
    "- Create a title (“Assignment 3 HZS”).\n",
    "- Metrics panel: Includes a drop-down menu to select the type of metric (MSD, Path Length, etc.).\n",
    "- Parameter control panel: Provides buttons, sliders and input fields to adjust simulation parameters (path type, number of steps, velocity, initial position, etc.).\n",
    "- Graphics: Includes two graphs to visualize the selected trajectory and metrics."
   ]
  },
  {
   "cell_type": "code",
   "execution_count": 18,
   "id": "1acb8a67-f931-464d-82f8-9078d77ac2bd",
   "metadata": {},
   "outputs": [],
   "source": [
    "\n",
    "# Define the layout of the dashboard\n",
    "app.layout = html.Div([\n",
    "    html.H1(\"Assignment 3 HZS\", style={'text-align': 'center', 'margin-top': '20px', 'font-size': '32px'}),\n",
    "\n",
    "    # Metrics panel\n",
    "    html.Div([\n",
    "        html.H3(\"Metrics\", style={'text-align': 'center', 'font-size': '20px'}),\n",
    "        dcc.Dropdown(  # Dropdown to select metric type\n",
    "            id='metric-type',\n",
    "            options=[\n",
    "                {'label': 'Mean Squared Displacement (MSD)', 'value': 'MSD'},\n",
    "                {'label': 'Path Length', 'value': 'PL'},\n",
    "                {'label': 'Turning Angle Distribution', 'value': 'TAD'}\n",
    "            ],\n",
    "            value='MSD',  # Default value\n",
    "            style={'margin-bottom': '10px'}\n",
    "        )\n",
    "    ], style={\n",
    "        'position': 'absolute', 'top': '5px', 'left': '1000px', 'width': '300px'  # Position settings\n",
    "    }),\n",
    "\n",
    "    # Parameters control panel\n",
    "    html.Div([\n",
    "        html.H3(\"Parameters\", style={'text-align': 'center', 'font-size': '20px'}),\n",
    "        dcc.RadioItems(  # Radio buttons for trajectory type\n",
    "            id='trajectory-type',\n",
    "            options=[\n",
    "                {'label': 'BM', 'value': 'BM'},  # Brownian Motion\n",
    "                {'label': 'CRW', 'value': 'CRW'},  # Correlated Random Walk\n",
    "                {'label': 'LF', 'value': 'LF'}  # Lévy Flight\n",
    "            ],\n",
    "            value='BM',  # Default value\n",
    "            labelStyle={'display': 'inline-block', 'margin-right': '10px'}\n",
    "        ),\n",
    "        html.Div([\n",
    "            html.Label(\"Steps:\"),\n",
    "            dcc.Slider(  # Slider for step selection\n",
    "                id='steps',\n",
    "                min=100, max=1000, value=500, step=10,\n",
    "                tooltip={\"placement\": \"bottom\", \"always_visible\": True},\n",
    "                marks={100: '100', 1000: '1000'}  # Step marker labels\n",
    "            )\n",
    "        ], style={'margin-bottom': '10px'}),\n",
    "        html.Div([\n",
    "            html.Label(\"Speed:\"),\n",
    "            dcc.Input(id='speed', value=1, type='number')  # Input for speed\n",
    "        ], style={'margin-bottom': '10px'}),\n",
    "        html.Div([\n",
    "            html.Label(\"Initial Position (x, y):\"),\n",
    "            dcc.Input(id='start-x', value=0, type='number', style={'margin-right': '10px'}),  # Initial x position\n",
    "            dcc.Input(id='start-y', value=0, type='number')  # Initial y position\n",
    "        ], style={'margin-bottom': '10px'}),\n",
    "        html.Div([\n",
    "            html.Label(\"Cauchy Coefficient:\"),\n",
    "            dcc.Input(id='cauchy-coeff', value=0.7, type='number')  # Input for Cauchy coefficient\n",
    "        ], style={'margin-bottom': '10px'}),\n",
    "        html.Div([\n",
    "            html.Label(\"Lévy Exponent (α):\"),\n",
    "            dcc.Input(id='levy-exponent', value=2.5, type='number')  # Input for Lévy exponent\n",
    "        ], style={'margin-bottom': '10px'})\n",
    "    ], style={\n",
    "        'position': 'absolute', 'top': '5px', 'left': '5px', 'width': '180px'  # Position settings\n",
    "    }),\n",
    "\n",
    "    # Graphs for visualizing data\n",
    "    html.Div([\n",
    "        dcc.Graph(id='trajectory-plot', style={'width': '65%', 'height': '500px'}),   # Graph for trajectory\n",
    "        dcc.Graph(id='metric-plot', style={'width': '100%', 'height': '500px'})  # Graph for metric\n",
    "    ], style={'margin-left': '200px', 'margin-top': '50px', 'display': 'flex', 'flex-direction': 'row'})\n",
    "])\n"
   ]
  },
  {
   "cell_type": "markdown",
   "id": "92b115fe-9a73-4421-88db-85362f544855",
   "metadata": {},
   "source": [
    "Callback to update graphs based on user input: \n",
    "- This section contains a callback function that updates the plots (trajectory and metric) dynamically based on user input from the control panel."
   ]
  },
  {
   "cell_type": "code",
   "execution_count": 21,
   "id": "a047f23e-f536-4899-b475-9455fd2fa193",
   "metadata": {},
   "outputs": [
    {
     "ename": "SyntaxError",
     "evalue": "incomplete input (2886113681.py, line 7)",
     "output_type": "error",
     "traceback": [
      "\u001b[1;36m  Cell \u001b[1;32mIn[21], line 7\u001b[1;36m\u001b[0m\n\u001b[1;33m    )\u001b[0m\n\u001b[1;37m     ^\u001b[0m\n\u001b[1;31mSyntaxError\u001b[0m\u001b[1;31m:\u001b[0m incomplete input\n"
     ]
    }
   ],
   "source": [
    "# Callback to update graphs based on user input\n",
    "@app.callback(\n",
    "    [Output('metric-plot', 'figure'), Output('trajectory-plot', 'figure')],\n",
    "    [Input('trajectory-type', 'value'), Input('metric-type', 'value'), Input('steps', 'value'),\n",
    "     Input('speed', 'value'), Input('start-x', 'value'), Input('start-y', 'value'),\n",
    "     Input('cauchy-coeff', 'value'), Input('levy-exponent', 'value')]\n",
    ")"
   ]
  },
  {
   "cell_type": "code",
   "execution_count": 14,
   "id": "a9474bde-f3ab-4f70-b696-769a5d1ee0ae",
   "metadata": {},
   "outputs": [],
   "source": [
    "def update_plots(trajectory_type, metric_type, steps, speed, start_x, start_y, cauchy_coeff, levy_exponent):\n",
    "    # Generate trajectories based on type\n",
    "    if trajectory_type == 'BM':\n",
    "        trajectory = brownian_motion(steps, speed, (start_x, start_y))  # Brownian Motion\n",
    "    elif trajectory_type == 'CRW':\n",
    "        trajectory = correlated_random_walk(steps, speed, (start_x, start_y), cauchy_coeff)  # Correlated Random Walk\n",
    "    else:\n",
    "        trajectory = levy_flight(steps, speed, (start_x, start_y), cauchy_coeff, levy_exponent)  # Lévy Flight"
   ]
  },
  {
   "cell_type": "code",
   "execution_count": null,
   "id": "6f03c3ad-76aa-4e2c-8967-aa3ef7d0e8f3",
   "metadata": {},
   "outputs": [],
   "source": []
  }
 ],
 "metadata": {
  "kernelspec": {
   "display_name": "Python 3 (ipykernel)",
   "language": "python",
   "name": "python3"
  },
  "language_info": {
   "codemirror_mode": {
    "name": "ipython",
    "version": 3
   },
   "file_extension": ".py",
   "mimetype": "text/x-python",
   "name": "python",
   "nbconvert_exporter": "python",
   "pygments_lexer": "ipython3",
   "version": "3.12.5"
  }
 },
 "nbformat": 4,
 "nbformat_minor": 5
}
