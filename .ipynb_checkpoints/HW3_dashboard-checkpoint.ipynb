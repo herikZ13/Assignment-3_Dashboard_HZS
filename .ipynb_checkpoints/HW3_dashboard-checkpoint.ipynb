{
 "cells": [
  {
   "cell_type": "markdown",
   "id": "39ef6c4e-2cc1-4337-aaa1-d799338430de",
   "metadata": {},
   "source": [
    "# Assignment 3  Dashboard\n",
    "\n",
    "**Name:** Heriberto Zapata Solano \n",
    "\n",
    "**e-mail:** heriberto.zapata7939@alumnos.udg.mx"
   ]
  },
  {
   "cell_type": "markdown",
   "id": "891d75b9-144d-4aba-9265-128a27942d57",
   "metadata": {},
   "source": [
    "# MODULES\n"
   ]
  },
  {
   "cell_type": "code",
   "execution_count": 1,
   "id": "1a565454-7584-4fd2-8d0b-07c479143931",
   "metadata": {},
   "outputs": [],
   "source": [
    "import dash\n",
    "from dash import dcc, html\n",
    "from dash.dependencies import Input, Output\n",
    "import plotly.graph_objects as go\n",
    "import numpy as np\n",
    "from scipy.stats import cauchy\n",
    "from scipy.spatial import distance\n"
   ]
  },
  {
   "cell_type": "markdown",
   "id": "1ce37aa0-5c41-4d0f-a5f0-842891248258",
   "metadata": {},
   "source": [
    "- What is \"vec2d\" used for in this code?\n",
    "\n",
    "The Vec2d class represents 2D vectors for trajectory calculations, managing x and y coordinates as Brownian motion and random walks. To plot in 3D, create a Vec3d class and update the functions appropriate."
   ]
  },
  {
   "cell_type": "code",
   "execution_count": 2,
   "id": "90d7fa12-1499-40e3-a2b7-f2b6a9238c70",
   "metadata": {},
   "outputs": [],
   "source": [
    "# Clase Vec2d para operaciones vectoriales 2D\n",
    "class Vec2d:\n",
    "    def __init__(self, x, y):\n",
    "        self.x = x\n",
    "        self.y = y\n",
    "\n",
    "    def __add__(self, other):\n",
    "        return Vec2d(self.x + other.x, self.y + other.y)\n",
    "\n",
    "    def __mul__(self, scalar):\n",
    "        return Vec2d(self.x * scalar, self.y * scalar)"
   ]
  },
  {
   "cell_type": "code",
   "execution_count": null,
   "id": "badecdc6-b3b1-49e6-9adf-6cff294eb762",
   "metadata": {},
   "outputs": [],
   "source": []
  }
 ],
 "metadata": {
  "kernelspec": {
   "display_name": "Python 3 (ipykernel)",
   "language": "python",
   "name": "python3"
  },
  "language_info": {
   "codemirror_mode": {
    "name": "ipython",
    "version": 3
   },
   "file_extension": ".py",
   "mimetype": "text/x-python",
   "name": "python",
   "nbconvert_exporter": "python",
   "pygments_lexer": "ipython3",
   "version": "3.12.5"
  }
 },
 "nbformat": 4,
 "nbformat_minor": 5
}
