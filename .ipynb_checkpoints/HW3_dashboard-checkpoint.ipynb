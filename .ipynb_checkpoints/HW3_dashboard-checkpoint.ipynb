{
 "cells": [
  {
   "cell_type": "markdown",
   "id": "39ef6c4e-2cc1-4337-aaa1-d799338430de",
   "metadata": {},
   "source": [
    "# Assignment 3  Dashboard\n",
    "\n",
    "**Name:** Heriberto Zapata Solano \n",
    "\n",
    "**e-mail:** heriberto.zapata7939@alumnos.udg.mx"
   ]
  },
  {
   "cell_type": "markdown",
   "id": "891d75b9-144d-4aba-9265-128a27942d57",
   "metadata": {},
   "source": [
    "# MODULES\n"
   ]
  },
  {
   "cell_type": "code",
   "execution_count": 1,
   "id": "1a565454-7584-4fd2-8d0b-07c479143931",
   "metadata": {},
   "outputs": [],
   "source": [
    "import dash\n",
    "from dash import dcc, html\n",
    "from dash.dependencies import Input, Output\n",
    "import plotly.graph_objects as go\n",
    "import numpy as np\n",
    "from scipy.stats import cauchy\n",
    "from scipy.spatial import distance\n"
   ]
  },
  {
   "cell_type": "markdown",
   "id": "1ce37aa0-5c41-4d0f-a5f0-842891248258",
   "metadata": {},
   "source": [
    "- What is \"vec2d\" used for in this code?\n",
    "\n",
    "The Vec2d class represents 2D vectors for trajectory calculations, managing x and y coordinates as Brownian motion and random walks. To plot in 3D, create a Vec3d class and update the functions appropriate."
   ]
  },
  {
   "cell_type": "code",
   "execution_count": 2,
   "id": "90d7fa12-1499-40e3-a2b7-f2b6a9238c70",
   "metadata": {},
   "outputs": [],
   "source": [
    "# Clase Vec2d para operaciones vectoriales 2D\n",
    "class Vec2d:\n",
    "    def __init__(self, x, y):\n",
    "        self.x = x\n",
    "        self.y = y\n",
    "\n",
    "    def __add__(self, other):\n",
    "        return Vec2d(self.x + other.x, self.y + other.y)\n",
    "\n",
    "    def __mul__(self, scalar):\n",
    "        return Vec2d(self.x * scalar, self.y * scalar)"
   ]
  },
  {
   "cell_type": "markdown",
   "id": "2edc576f-57b3-4505-87d6-5fde1b40fae6",
   "metadata": {},
   "source": [
    "# FUNCTIONS\n",
    "\n"
   ]
  },
  {
   "cell_type": "code",
   "execution_count": null,
   "id": "4d91e513-2354-42d2-b96f-ab166c0ea3e3",
   "metadata": {},
   "outputs": [],
   "source": []
  },
  {
   "cell_type": "code",
   "execution_count": 3,
   "id": "e6160491-52c5-4f60-bb9c-fef858b8d7c8",
   "metadata": {},
   "outputs": [],
   "source": [
    "# Function to generate Brownian Motion\n",
    "def brownian_motion(steps, speed, start_pos):\n",
    "    trajectory = [Vec2d(*start_pos)]\n",
    "    for _ in range(steps):\n",
    "        angle = np.random.uniform(0, 2 * np.pi)\n",
    "        step = Vec2d(np.cos(angle), np.sin(angle)) * speed\n",
    "        trajectory.append(trajectory[-1] + step)\n",
    "    return trajectory\n",
    "\n",
    "# Function to generate Correlated Random Walk\n",
    "def correlated_random_walk(steps, speed, start_pos, cauchy_coeff):\n",
    "    trajectory = [Vec2d(*start_pos)]\n",
    "    angle = 0\n",
    "    for _ in range(steps):\n",
    "        angle += cauchy.rvs(scale=cauchy_coeff)  # Angle distributed according to Cauchy\n",
    "        step = Vec2d(np.cos(angle), np.sin(angle)) * speed\n",
    "        trajectory.append(trajectory[-1] + step)\n",
    "    return trajectory\n",
    "\n",
    "# Function to generate Levy Flight\n",
    "def levy_flight(steps, speed, start_pos, cauchy_coeff, alpha):\n",
    "    trajectory = [Vec2d(*start_pos)]\n",
    "    for _ in range(steps):\n",
    "        direction = np.random.uniform(0, 2 * np.pi)\n",
    "        step_length = (np.random.pareto(alpha) + 1) * cauchy_coeff\n",
    "        step = Vec2d(np.cos(direction), np.sin(direction)) * step_length * speed\n",
    "        trajectory.append(trajectory[-1] + step)\n",
    "    return trajectory\n",
    "\n",
    "# Function to calculate the path length\n",
    "def calculate_path_length(trajectory):\n",
    "    length = [0]\n",
    "    for i in range(1, len(trajectory)):\n",
    "        dist = distance.euclidean((trajectory[i-1].x, trajectory[i-1].y), \n",
    "                                  (trajectory[i].x, trajectory[i].y))\n",
    "        length.append(length[-1] + dist)\n",
    "    return length\n",
    "\n",
    "# Function to calculate the Mean Squared Displacement (MSD)\n",
    "def calculate_msd(trajectory):\n",
    "    msd = []\n",
    "    for tau in range(1, len(trajectory)):\n",
    "        displacements = [(trajectory[i + tau].x - trajectory[i].x)**2 + (trajectory[i + tau].y - trajectory[i].y)**2 \n",
    "                         for i in range(len(trajectory) - tau)]\n",
    "        msd.append(np.mean(displacements))\n",
    "    return msd\n",
    "\n",
    "# Function to calculate turning angles\n",
    "def calculate_turning_angles(trajectory):\n",
    "    angles = []\n",
    "    for i in range(1, len(trajectory) - 1):\n",
    "        p1 = np.array([trajectory[i-1].x, trajectory[i-1].y])\n",
    "        p2 = np.array([trajectory[i].x, trajectory[i].y])\n",
    "        p3 = np.array([trajectory[i+1].x, trajectory[i+1].y])\n",
    "        v1 = p2 - p1\n",
    "        v2 = p3 - p2\n",
    "        dot_prod = np.dot(v1, v2)\n",
    "        cross_prod = np.cross(v1, v2)\n",
    "        angle = np.arctan2(cross_prod, dot_prod)\n",
    "        angles.append(angle)\n",
    "    return angles\n"
   ]
  },
  {
   "cell_type": "code",
   "execution_count": null,
   "id": "c767f8d1-dfd0-4f81-aef2-b2a2773b926e",
   "metadata": {},
   "outputs": [],
   "source": []
  }
 ],
 "metadata": {
  "kernelspec": {
   "display_name": "Python 3 (ipykernel)",
   "language": "python",
   "name": "python3"
  },
  "language_info": {
   "codemirror_mode": {
    "name": "ipython",
    "version": 3
   },
   "file_extension": ".py",
   "mimetype": "text/x-python",
   "name": "python",
   "nbconvert_exporter": "python",
   "pygments_lexer": "ipython3",
   "version": "3.12.5"
  }
 },
 "nbformat": 4,
 "nbformat_minor": 5
}
